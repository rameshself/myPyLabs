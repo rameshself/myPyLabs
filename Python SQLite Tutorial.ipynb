{
 "cells": [
  {
   "cell_type": "code",
   "execution_count": 1,
   "metadata": {
    "collapsed": true
   },
   "outputs": [],
   "source": [
    "class Employee:\n",
    "    \"\"\"A sample Employee class\"\"\"\n",
    "    def __init__(self, first, last, pay):\n",
    "        self.first = first\n",
    "        self.last = last\n",
    "        self.pay = pay\n",
    "        \n",
    "    @property\n",
    "    def email(self):\n",
    "        return '{}.{}@email.com'.format(self.first, self.last)\n",
    "    \n",
    "    @property\n",
    "    def fullname(self):\n",
    "        return '{} {}'.format(self.first, self.last)\n",
    "    \n",
    "    def __repr___(self):\n",
    "        return \"Employee('{}', '{}', {})\".format(self.first, self.last, self.pay)\n",
    "    "
   ]
  },
  {
   "cell_type": "code",
   "execution_count": 17,
   "metadata": {
    "collapsed": false
   },
   "outputs": [],
   "source": [
    "emp_1 = Employee('John', 'Doe', 80000)\n"
   ]
  },
  {
   "cell_type": "code",
   "execution_count": 2,
   "metadata": {
    "collapsed": true
   },
   "outputs": [],
   "source": [
    "import sqlite3"
   ]
  },
  {
   "cell_type": "code",
   "execution_count": 26,
   "metadata": {
    "collapsed": false
   },
   "outputs": [
    {
     "name": "stdout",
     "output_type": "stream",
     "text": [
      "John\n",
      "Doe\n",
      "80000\n",
      "[('John', 'Doe', 80000), ('Jane', 'Doe', 90000)]\n"
     ]
    }
   ],
   "source": [
    "conn = sqlite3.connect(':memory:')\n",
    "#conn = sqlite3.connect('employee.db')\n",
    "c = conn.cursor()\n",
    "c.execute(\"\"\"CREATE TABLE employees (\n",
    "            first text,\n",
    "            last text,\n",
    "            pay integer\n",
    "            )\"\"\")\n",
    "\n",
    "emp_1 = Employee('John', 'Doe', 80000)\n",
    "emp_2 = Employee('Jane', 'Doe', 90000)\n",
    "\n",
    "print(emp_1.first)\n",
    "print(emp_1.last)\n",
    "print(emp_1.pay)\n",
    "\n",
    "# c.execute(\"INSERT INTO employees Values ('{}', '{}', {})\".format(emp_1.first, emp_1.last, emp_1.pay)) # bad practice\n",
    "# conn.commit()\n",
    "\n",
    "#c.execute(\"DELETE FROM employees WHERE last = 'Schafer' or last = 'Doe'\")\n",
    "\n",
    "c.execute(\"INSERT INTO employees Values (?, ?, ?)\", (emp_1.first, emp_1.last, emp_1.pay)) # correct practice\n",
    "conn.commit()\n",
    "\n",
    "c.execute(\"INSERT INTO employees Values (:first, :last, :pay)\", {'first':emp_2.first, 'last':emp_2.last, 'pay':emp_2.pay}) # correct practice\n",
    "conn.commit()\n",
    "\n",
    "# c.execute(\"INSERT INTO employees Values ('Corey', 'Schafer', 50000)\")\n",
    "# conn.commit()\n",
    "\n",
    "#c.execute(\"INSERT INTO employees Values ('Mary', 'Schafer', 70000)\")\n",
    "#conn.commit()\n",
    "\n",
    "#c.execute(\"DELETE FROM employees WHERE last = 'Schafer' or last = 'Doe'\")\n",
    "\n",
    "#c.execute(\"SELECT * FROM employees WHERE last = 'Schafer' or last = 'Doe'\" )\n",
    "c.execute(\"SELECT * FROM employees WHERE last = ? or last = ?\", ('Schafer','Doe'))\n",
    "#c.fetchmany(5)\n",
    "\n",
    "print(c.fetchall())\n",
    "#print(c.fetchall())\n",
    "\n",
    "\n",
    "conn.commit()\n",
    "conn.close()"
   ]
  },
  {
   "cell_type": "code",
   "execution_count": 40,
   "metadata": {
    "collapsed": false,
    "scrolled": true
   },
   "outputs": [],
   "source": [
    "conn.close()"
   ]
  },
  {
   "cell_type": "code",
   "execution_count": null,
   "metadata": {
    "collapsed": false
   },
   "outputs": [],
   "source": []
  },
  {
   "cell_type": "code",
   "execution_count": null,
   "metadata": {
    "collapsed": false
   },
   "outputs": [],
   "source": []
  },
  {
   "cell_type": "code",
   "execution_count": null,
   "metadata": {
    "collapsed": false
   },
   "outputs": [],
   "source": []
  },
  {
   "cell_type": "code",
   "execution_count": null,
   "metadata": {
    "collapsed": false
   },
   "outputs": [],
   "source": []
  },
  {
   "cell_type": "code",
   "execution_count": 38,
   "metadata": {
    "collapsed": true
   },
   "outputs": [],
   "source": []
  },
  {
   "cell_type": "code",
   "execution_count": null,
   "metadata": {
    "collapsed": true
   },
   "outputs": [],
   "source": []
  },
  {
   "cell_type": "code",
   "execution_count": null,
   "metadata": {
    "collapsed": true
   },
   "outputs": [],
   "source": []
  }
 ],
 "metadata": {
  "kernelspec": {
   "display_name": "Python 3",
   "language": "python",
   "name": "python3"
  },
  "language_info": {
   "codemirror_mode": {
    "name": "ipython",
    "version": 3
   },
   "file_extension": ".py",
   "mimetype": "text/x-python",
   "name": "python",
   "nbconvert_exporter": "python",
   "pygments_lexer": "ipython3",
   "version": "3.6.1"
  }
 },
 "nbformat": 4,
 "nbformat_minor": 2
}
