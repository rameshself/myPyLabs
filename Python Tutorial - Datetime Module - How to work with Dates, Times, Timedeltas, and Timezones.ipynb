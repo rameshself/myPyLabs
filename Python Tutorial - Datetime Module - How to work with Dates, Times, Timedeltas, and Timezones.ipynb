{
 "cells": [
  {
   "cell_type": "code",
   "execution_count": 8,
   "metadata": {
    "collapsed": true
   },
   "outputs": [],
   "source": [
    "import datetime"
   ]
  },
  {
   "cell_type": "code",
   "execution_count": 17,
   "metadata": {
    "collapsed": false
   },
   "outputs": [
    {
     "name": "stdout",
     "output_type": "stream",
     "text": [
      "2017-12-17\n",
      "<class 'datetime.date'>\n"
     ]
    }
   ],
   "source": [
    "date = datetime.date(2017, 12, 17)\n",
    "print (date)\n",
    "print (type(date))"
   ]
  },
  {
   "cell_type": "code",
   "execution_count": 18,
   "metadata": {
    "collapsed": false
   },
   "outputs": [
    {
     "name": "stdout",
     "output_type": "stream",
     "text": [
      "12:35:35\n",
      "<class 'datetime.time'>\n"
     ]
    }
   ],
   "source": [
    "time = datetime.time(12, 35, 35)\n",
    "print (time)\n",
    "print (type(time))"
   ]
  },
  {
   "cell_type": "code",
   "execution_count": 19,
   "metadata": {
    "collapsed": false
   },
   "outputs": [
    {
     "name": "stdout",
     "output_type": "stream",
     "text": [
      "2017-12-17 00:00:00\n",
      "<class 'datetime.datetime'>\n"
     ]
    }
   ],
   "source": [
    "datetime1 = datetime.datetime(2017, 12, 17)\n",
    "print (datetime1)\n",
    "print (type(datetime1))"
   ]
  },
  {
   "cell_type": "code",
   "execution_count": 27,
   "metadata": {
    "collapsed": false
   },
   "outputs": [
    {
     "name": "stdout",
     "output_type": "stream",
     "text": [
      "December 17, 2017\n",
      "December 12/17/17, 2017\n",
      "December 12/17/17, 17\n",
      "Dec 12/17/17, 17\n",
      "2017-12-17\n",
      "December 17, 2017\n",
      "January 01, 1900\n"
     ]
    }
   ],
   "source": [
    "print (datetime1.strftime('%B %d, %Y'))\n",
    "print (datetime1.strftime('%B %D, %Y'))\n",
    "print (datetime1.strftime('%B %D, %y'))\n",
    "print (datetime1.strftime('%b %D, %y'))\n",
    "print (datetime1.strftime('%Y-%m-%d'))\n",
    "print (date.strftime('%B %d, %Y'))\n",
    "print (time.strftime('%B %d, %Y'))"
   ]
  },
  {
   "cell_type": "code",
   "execution_count": 29,
   "metadata": {
    "collapsed": false
   },
   "outputs": [
    {
     "name": "stdout",
     "output_type": "stream",
     "text": [
      "2016-07-26 00:00:00\n"
     ]
    }
   ],
   "source": [
    "dt_str = 'July 26, 2016'\n",
    "dt = datetime.datetime.strptime(dt_str, '%B %d, %Y')\n",
    "print (dt)"
   ]
  },
  {
   "cell_type": "code",
   "execution_count": 30,
   "metadata": {
    "collapsed": true
   },
   "outputs": [],
   "source": [
    "# strftime - Datetime to String\n",
    "# strptime - String to Datetime"
   ]
  }
 ],
 "metadata": {
  "kernelspec": {
   "display_name": "Python 3",
   "language": "python",
   "name": "python3"
  },
  "language_info": {
   "codemirror_mode": {
    "name": "ipython",
    "version": 3
   },
   "file_extension": ".py",
   "mimetype": "text/x-python",
   "name": "python",
   "nbconvert_exporter": "python",
   "pygments_lexer": "ipython3",
   "version": "3.6.1"
  }
 },
 "nbformat": 4,
 "nbformat_minor": 2
}
