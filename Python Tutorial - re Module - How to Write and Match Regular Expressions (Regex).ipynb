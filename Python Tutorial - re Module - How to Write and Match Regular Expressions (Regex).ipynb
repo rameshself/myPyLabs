{
 "cells": [
  {
   "cell_type": "code",
   "execution_count": 1,
   "metadata": {
    "collapsed": true
   },
   "outputs": [],
   "source": [
    "import re"
   ]
  },
  {
   "cell_type": "code",
   "execution_count": 2,
   "metadata": {
    "collapsed": true
   },
   "outputs": [],
   "source": [
    "sentence = 'Start a sentence and then bring it to an end'"
   ]
  },
  {
   "cell_type": "code",
   "execution_count": 3,
   "metadata": {
    "collapsed": false
   },
   "outputs": [
    {
     "name": "stdout",
     "output_type": "stream",
     "text": [
      "\\tTab\n"
     ]
    }
   ],
   "source": [
    "print(r'\\tTab')"
   ]
  },
  {
   "cell_type": "code",
   "execution_count": 4,
   "metadata": {
    "collapsed": false
   },
   "outputs": [
    {
     "name": "stdout",
     "output_type": "stream",
     "text": [
      "\tTab\n"
     ]
    }
   ],
   "source": [
    "print('\\tTab')"
   ]
  },
  {
   "cell_type": "code",
   "execution_count": 5,
   "metadata": {
    "collapsed": true
   },
   "outputs": [],
   "source": [
    "text_to_search = '''\n",
    "abcdefghijklmnopqurtuvwxyz\n",
    "ABCDEFGHIJKLMNOPQRSTUVWXYZ\n",
    "1234567890\n",
    "\n",
    "Ha HaHa\n",
    "\n",
    "MetaCharacters (Need to be escaped):\n",
    ". ^ $ * + ? { } [ ] \\ | ( )\n",
    "\n",
    "coreyms.com\n",
    "\n",
    "321-555-4321\n",
    "123.555.1234\n",
    "123*555*1234\n",
    "800-555-1234\n",
    "900-555-1234\n",
    "\n",
    "Mr. Schafer\n",
    "Mr Smith\n",
    "Ms Davis\n",
    "Mrs. Robinson\n",
    "Mr. T\n",
    "'''"
   ]
  },
  {
   "cell_type": "code",
   "execution_count": 6,
   "metadata": {
    "collapsed": true
   },
   "outputs": [],
   "source": [
    "pattern = re.compile(r'abc')\n",
    "matches = pattern.finditer(text_to_search)"
   ]
  },
  {
   "cell_type": "code",
   "execution_count": 7,
   "metadata": {
    "collapsed": false
   },
   "outputs": [
    {
     "name": "stdout",
     "output_type": "stream",
     "text": [
      "<_sre.SRE_Match object; span=(1, 4), match='abc'>\n"
     ]
    }
   ],
   "source": [
    "for match in matches:\n",
    "    print(match)"
   ]
  },
  {
   "cell_type": "code",
   "execution_count": 8,
   "metadata": {
    "collapsed": false
   },
   "outputs": [
    {
     "name": "stdout",
     "output_type": "stream",
     "text": [
      "abc\n"
     ]
    }
   ],
   "source": [
    "print(text_to_search[1:4])"
   ]
  },
  {
   "cell_type": "code",
   "execution_count": 9,
   "metadata": {
    "collapsed": false
   },
   "outputs": [
    {
     "name": "stdout",
     "output_type": "stream",
     "text": [
      "\n",
      "abc\n"
     ]
    }
   ],
   "source": [
    "print(text_to_search[0:4])"
   ]
  },
  {
   "cell_type": "code",
   "execution_count": 17,
   "metadata": {
    "collapsed": false
   },
   "outputs": [
    {
     "name": "stdout",
     "output_type": "stream",
     "text": [
      "<_sre.SRE_Match object; span=(1, 2), match='a'>\n",
      "<_sre.SRE_Match object; span=(2, 3), match='b'>\n",
      "<_sre.SRE_Match object; span=(3, 4), match='c'>\n",
      "<_sre.SRE_Match object; span=(4, 5), match='d'>\n",
      "<_sre.SRE_Match object; span=(5, 6), match='e'>\n",
      "<_sre.SRE_Match object; span=(6, 7), match='f'>\n",
      "<_sre.SRE_Match object; span=(7, 8), match='g'>\n",
      "<_sre.SRE_Match object; span=(8, 9), match='h'>\n",
      "<_sre.SRE_Match object; span=(9, 10), match='i'>\n",
      "<_sre.SRE_Match object; span=(10, 11), match='j'>\n",
      "<_sre.SRE_Match object; span=(11, 12), match='k'>\n",
      "<_sre.SRE_Match object; span=(12, 13), match='l'>\n",
      "<_sre.SRE_Match object; span=(13, 14), match='m'>\n",
      "<_sre.SRE_Match object; span=(14, 15), match='n'>\n",
      "<_sre.SRE_Match object; span=(15, 16), match='o'>\n",
      "<_sre.SRE_Match object; span=(16, 17), match='p'>\n",
      "<_sre.SRE_Match object; span=(17, 18), match='q'>\n",
      "<_sre.SRE_Match object; span=(18, 19), match='u'>\n",
      "<_sre.SRE_Match object; span=(19, 20), match='r'>\n",
      "<_sre.SRE_Match object; span=(20, 21), match='t'>\n",
      "<_sre.SRE_Match object; span=(21, 22), match='u'>\n",
      "<_sre.SRE_Match object; span=(22, 23), match='v'>\n",
      "<_sre.SRE_Match object; span=(23, 24), match='w'>\n",
      "<_sre.SRE_Match object; span=(24, 25), match='x'>\n",
      "<_sre.SRE_Match object; span=(25, 26), match='y'>\n",
      "<_sre.SRE_Match object; span=(26, 27), match='z'>\n",
      "<_sre.SRE_Match object; span=(28, 29), match='A'>\n",
      "<_sre.SRE_Match object; span=(29, 30), match='B'>\n",
      "<_sre.SRE_Match object; span=(30, 31), match='C'>\n",
      "<_sre.SRE_Match object; span=(31, 32), match='D'>\n",
      "<_sre.SRE_Match object; span=(32, 33), match='E'>\n",
      "<_sre.SRE_Match object; span=(33, 34), match='F'>\n",
      "<_sre.SRE_Match object; span=(34, 35), match='G'>\n",
      "<_sre.SRE_Match object; span=(35, 36), match='H'>\n",
      "<_sre.SRE_Match object; span=(36, 37), match='I'>\n",
      "<_sre.SRE_Match object; span=(37, 38), match='J'>\n",
      "<_sre.SRE_Match object; span=(38, 39), match='K'>\n",
      "<_sre.SRE_Match object; span=(39, 40), match='L'>\n",
      "<_sre.SRE_Match object; span=(40, 41), match='M'>\n",
      "<_sre.SRE_Match object; span=(41, 42), match='N'>\n",
      "<_sre.SRE_Match object; span=(42, 43), match='O'>\n",
      "<_sre.SRE_Match object; span=(43, 44), match='P'>\n",
      "<_sre.SRE_Match object; span=(44, 45), match='Q'>\n",
      "<_sre.SRE_Match object; span=(45, 46), match='R'>\n",
      "<_sre.SRE_Match object; span=(46, 47), match='S'>\n",
      "<_sre.SRE_Match object; span=(47, 48), match='T'>\n",
      "<_sre.SRE_Match object; span=(48, 49), match='U'>\n",
      "<_sre.SRE_Match object; span=(49, 50), match='V'>\n",
      "<_sre.SRE_Match object; span=(50, 51), match='W'>\n",
      "<_sre.SRE_Match object; span=(51, 52), match='X'>\n",
      "<_sre.SRE_Match object; span=(52, 53), match='Y'>\n",
      "<_sre.SRE_Match object; span=(53, 54), match='Z'>\n",
      "<_sre.SRE_Match object; span=(55, 56), match='1'>\n",
      "<_sre.SRE_Match object; span=(56, 57), match='2'>\n",
      "<_sre.SRE_Match object; span=(57, 58), match='3'>\n",
      "<_sre.SRE_Match object; span=(58, 59), match='4'>\n",
      "<_sre.SRE_Match object; span=(59, 60), match='5'>\n",
      "<_sre.SRE_Match object; span=(60, 61), match='6'>\n",
      "<_sre.SRE_Match object; span=(61, 62), match='7'>\n",
      "<_sre.SRE_Match object; span=(62, 63), match='8'>\n",
      "<_sre.SRE_Match object; span=(63, 64), match='9'>\n",
      "<_sre.SRE_Match object; span=(64, 65), match='0'>\n",
      "<_sre.SRE_Match object; span=(67, 68), match='H'>\n",
      "<_sre.SRE_Match object; span=(68, 69), match='a'>\n",
      "<_sre.SRE_Match object; span=(69, 70), match=' '>\n",
      "<_sre.SRE_Match object; span=(70, 71), match='H'>\n",
      "<_sre.SRE_Match object; span=(71, 72), match='a'>\n",
      "<_sre.SRE_Match object; span=(72, 73), match='H'>\n",
      "<_sre.SRE_Match object; span=(73, 74), match='a'>\n",
      "<_sre.SRE_Match object; span=(76, 77), match='M'>\n",
      "<_sre.SRE_Match object; span=(77, 78), match='e'>\n",
      "<_sre.SRE_Match object; span=(78, 79), match='t'>\n",
      "<_sre.SRE_Match object; span=(79, 80), match='a'>\n",
      "<_sre.SRE_Match object; span=(80, 81), match='C'>\n",
      "<_sre.SRE_Match object; span=(81, 82), match='h'>\n",
      "<_sre.SRE_Match object; span=(82, 83), match='a'>\n",
      "<_sre.SRE_Match object; span=(83, 84), match='r'>\n",
      "<_sre.SRE_Match object; span=(84, 85), match='a'>\n",
      "<_sre.SRE_Match object; span=(85, 86), match='c'>\n",
      "<_sre.SRE_Match object; span=(86, 87), match='t'>\n",
      "<_sre.SRE_Match object; span=(87, 88), match='e'>\n",
      "<_sre.SRE_Match object; span=(88, 89), match='r'>\n",
      "<_sre.SRE_Match object; span=(89, 90), match='s'>\n",
      "<_sre.SRE_Match object; span=(90, 91), match=' '>\n",
      "<_sre.SRE_Match object; span=(91, 92), match='('>\n",
      "<_sre.SRE_Match object; span=(92, 93), match='N'>\n",
      "<_sre.SRE_Match object; span=(93, 94), match='e'>\n",
      "<_sre.SRE_Match object; span=(94, 95), match='e'>\n",
      "<_sre.SRE_Match object; span=(95, 96), match='d'>\n",
      "<_sre.SRE_Match object; span=(96, 97), match=' '>\n",
      "<_sre.SRE_Match object; span=(97, 98), match='t'>\n",
      "<_sre.SRE_Match object; span=(98, 99), match='o'>\n",
      "<_sre.SRE_Match object; span=(99, 100), match=' '>\n",
      "<_sre.SRE_Match object; span=(100, 101), match='b'>\n",
      "<_sre.SRE_Match object; span=(101, 102), match='e'>\n",
      "<_sre.SRE_Match object; span=(102, 103), match=' '>\n",
      "<_sre.SRE_Match object; span=(103, 104), match='e'>\n",
      "<_sre.SRE_Match object; span=(104, 105), match='s'>\n",
      "<_sre.SRE_Match object; span=(105, 106), match='c'>\n",
      "<_sre.SRE_Match object; span=(106, 107), match='a'>\n",
      "<_sre.SRE_Match object; span=(107, 108), match='p'>\n",
      "<_sre.SRE_Match object; span=(108, 109), match='e'>\n",
      "<_sre.SRE_Match object; span=(109, 110), match='d'>\n",
      "<_sre.SRE_Match object; span=(110, 111), match=')'>\n",
      "<_sre.SRE_Match object; span=(111, 112), match=':'>\n",
      "<_sre.SRE_Match object; span=(113, 114), match='.'>\n",
      "<_sre.SRE_Match object; span=(114, 115), match=' '>\n",
      "<_sre.SRE_Match object; span=(115, 116), match='^'>\n",
      "<_sre.SRE_Match object; span=(116, 117), match=' '>\n",
      "<_sre.SRE_Match object; span=(117, 118), match='$'>\n",
      "<_sre.SRE_Match object; span=(118, 119), match=' '>\n",
      "<_sre.SRE_Match object; span=(119, 120), match='*'>\n",
      "<_sre.SRE_Match object; span=(120, 121), match=' '>\n",
      "<_sre.SRE_Match object; span=(121, 122), match='+'>\n",
      "<_sre.SRE_Match object; span=(122, 123), match=' '>\n",
      "<_sre.SRE_Match object; span=(123, 124), match='?'>\n",
      "<_sre.SRE_Match object; span=(124, 125), match=' '>\n",
      "<_sre.SRE_Match object; span=(125, 126), match='{'>\n",
      "<_sre.SRE_Match object; span=(126, 127), match=' '>\n",
      "<_sre.SRE_Match object; span=(127, 128), match='}'>\n",
      "<_sre.SRE_Match object; span=(128, 129), match=' '>\n",
      "<_sre.SRE_Match object; span=(129, 130), match='['>\n",
      "<_sre.SRE_Match object; span=(130, 131), match=' '>\n",
      "<_sre.SRE_Match object; span=(131, 132), match=']'>\n",
      "<_sre.SRE_Match object; span=(132, 133), match=' '>\n",
      "<_sre.SRE_Match object; span=(133, 134), match='\\\\'>\n",
      "<_sre.SRE_Match object; span=(134, 135), match=' '>\n",
      "<_sre.SRE_Match object; span=(135, 136), match='|'>\n",
      "<_sre.SRE_Match object; span=(136, 137), match=' '>\n",
      "<_sre.SRE_Match object; span=(137, 138), match='('>\n",
      "<_sre.SRE_Match object; span=(138, 139), match=' '>\n",
      "<_sre.SRE_Match object; span=(139, 140), match=')'>\n",
      "<_sre.SRE_Match object; span=(142, 143), match='c'>\n",
      "<_sre.SRE_Match object; span=(143, 144), match='o'>\n",
      "<_sre.SRE_Match object; span=(144, 145), match='r'>\n",
      "<_sre.SRE_Match object; span=(145, 146), match='e'>\n",
      "<_sre.SRE_Match object; span=(146, 147), match='y'>\n",
      "<_sre.SRE_Match object; span=(147, 148), match='m'>\n",
      "<_sre.SRE_Match object; span=(148, 149), match='s'>\n",
      "<_sre.SRE_Match object; span=(149, 150), match='.'>\n",
      "<_sre.SRE_Match object; span=(150, 151), match='c'>\n",
      "<_sre.SRE_Match object; span=(151, 152), match='o'>\n",
      "<_sre.SRE_Match object; span=(152, 153), match='m'>\n",
      "<_sre.SRE_Match object; span=(155, 156), match='3'>\n",
      "<_sre.SRE_Match object; span=(156, 157), match='2'>\n",
      "<_sre.SRE_Match object; span=(157, 158), match='1'>\n",
      "<_sre.SRE_Match object; span=(158, 159), match='-'>\n",
      "<_sre.SRE_Match object; span=(159, 160), match='5'>\n",
      "<_sre.SRE_Match object; span=(160, 161), match='5'>\n",
      "<_sre.SRE_Match object; span=(161, 162), match='5'>\n",
      "<_sre.SRE_Match object; span=(162, 163), match='-'>\n",
      "<_sre.SRE_Match object; span=(163, 164), match='4'>\n",
      "<_sre.SRE_Match object; span=(164, 165), match='3'>\n",
      "<_sre.SRE_Match object; span=(165, 166), match='2'>\n",
      "<_sre.SRE_Match object; span=(166, 167), match='1'>\n",
      "<_sre.SRE_Match object; span=(168, 169), match='1'>\n",
      "<_sre.SRE_Match object; span=(169, 170), match='2'>\n",
      "<_sre.SRE_Match object; span=(170, 171), match='3'>\n",
      "<_sre.SRE_Match object; span=(171, 172), match='.'>\n",
      "<_sre.SRE_Match object; span=(172, 173), match='5'>\n",
      "<_sre.SRE_Match object; span=(173, 174), match='5'>\n",
      "<_sre.SRE_Match object; span=(174, 175), match='5'>\n",
      "<_sre.SRE_Match object; span=(175, 176), match='.'>\n",
      "<_sre.SRE_Match object; span=(176, 177), match='1'>\n",
      "<_sre.SRE_Match object; span=(177, 178), match='2'>\n",
      "<_sre.SRE_Match object; span=(178, 179), match='3'>\n",
      "<_sre.SRE_Match object; span=(179, 180), match='4'>\n",
      "<_sre.SRE_Match object; span=(181, 182), match='1'>\n",
      "<_sre.SRE_Match object; span=(182, 183), match='2'>\n",
      "<_sre.SRE_Match object; span=(183, 184), match='3'>\n",
      "<_sre.SRE_Match object; span=(184, 185), match='*'>\n",
      "<_sre.SRE_Match object; span=(185, 186), match='5'>\n",
      "<_sre.SRE_Match object; span=(186, 187), match='5'>\n",
      "<_sre.SRE_Match object; span=(187, 188), match='5'>\n",
      "<_sre.SRE_Match object; span=(188, 189), match='*'>\n",
      "<_sre.SRE_Match object; span=(189, 190), match='1'>\n",
      "<_sre.SRE_Match object; span=(190, 191), match='2'>\n",
      "<_sre.SRE_Match object; span=(191, 192), match='3'>\n",
      "<_sre.SRE_Match object; span=(192, 193), match='4'>\n",
      "<_sre.SRE_Match object; span=(194, 195), match='8'>\n",
      "<_sre.SRE_Match object; span=(195, 196), match='0'>\n",
      "<_sre.SRE_Match object; span=(196, 197), match='0'>\n",
      "<_sre.SRE_Match object; span=(197, 198), match='-'>\n",
      "<_sre.SRE_Match object; span=(198, 199), match='5'>\n",
      "<_sre.SRE_Match object; span=(199, 200), match='5'>\n",
      "<_sre.SRE_Match object; span=(200, 201), match='5'>\n",
      "<_sre.SRE_Match object; span=(201, 202), match='-'>\n",
      "<_sre.SRE_Match object; span=(202, 203), match='1'>\n",
      "<_sre.SRE_Match object; span=(203, 204), match='2'>\n",
      "<_sre.SRE_Match object; span=(204, 205), match='3'>\n",
      "<_sre.SRE_Match object; span=(205, 206), match='4'>\n",
      "<_sre.SRE_Match object; span=(207, 208), match='9'>\n",
      "<_sre.SRE_Match object; span=(208, 209), match='0'>\n",
      "<_sre.SRE_Match object; span=(209, 210), match='0'>\n",
      "<_sre.SRE_Match object; span=(210, 211), match='-'>\n",
      "<_sre.SRE_Match object; span=(211, 212), match='5'>\n",
      "<_sre.SRE_Match object; span=(212, 213), match='5'>\n",
      "<_sre.SRE_Match object; span=(213, 214), match='5'>\n",
      "<_sre.SRE_Match object; span=(214, 215), match='-'>\n",
      "<_sre.SRE_Match object; span=(215, 216), match='1'>\n",
      "<_sre.SRE_Match object; span=(216, 217), match='2'>\n",
      "<_sre.SRE_Match object; span=(217, 218), match='3'>\n",
      "<_sre.SRE_Match object; span=(218, 219), match='4'>\n",
      "<_sre.SRE_Match object; span=(221, 222), match='M'>\n",
      "<_sre.SRE_Match object; span=(222, 223), match='r'>\n",
      "<_sre.SRE_Match object; span=(223, 224), match='.'>\n",
      "<_sre.SRE_Match object; span=(224, 225), match=' '>\n",
      "<_sre.SRE_Match object; span=(225, 226), match='S'>\n",
      "<_sre.SRE_Match object; span=(226, 227), match='c'>\n",
      "<_sre.SRE_Match object; span=(227, 228), match='h'>\n",
      "<_sre.SRE_Match object; span=(228, 229), match='a'>\n",
      "<_sre.SRE_Match object; span=(229, 230), match='f'>\n",
      "<_sre.SRE_Match object; span=(230, 231), match='e'>\n",
      "<_sre.SRE_Match object; span=(231, 232), match='r'>\n",
      "<_sre.SRE_Match object; span=(233, 234), match='M'>\n",
      "<_sre.SRE_Match object; span=(234, 235), match='r'>\n",
      "<_sre.SRE_Match object; span=(235, 236), match=' '>\n",
      "<_sre.SRE_Match object; span=(236, 237), match='S'>\n",
      "<_sre.SRE_Match object; span=(237, 238), match='m'>\n",
      "<_sre.SRE_Match object; span=(238, 239), match='i'>\n",
      "<_sre.SRE_Match object; span=(239, 240), match='t'>\n",
      "<_sre.SRE_Match object; span=(240, 241), match='h'>\n",
      "<_sre.SRE_Match object; span=(242, 243), match='M'>\n",
      "<_sre.SRE_Match object; span=(243, 244), match='s'>\n",
      "<_sre.SRE_Match object; span=(244, 245), match=' '>\n",
      "<_sre.SRE_Match object; span=(245, 246), match='D'>\n",
      "<_sre.SRE_Match object; span=(246, 247), match='a'>\n",
      "<_sre.SRE_Match object; span=(247, 248), match='v'>\n",
      "<_sre.SRE_Match object; span=(248, 249), match='i'>\n",
      "<_sre.SRE_Match object; span=(249, 250), match='s'>\n",
      "<_sre.SRE_Match object; span=(251, 252), match='M'>\n",
      "<_sre.SRE_Match object; span=(252, 253), match='r'>\n",
      "<_sre.SRE_Match object; span=(253, 254), match='s'>\n",
      "<_sre.SRE_Match object; span=(254, 255), match='.'>\n",
      "<_sre.SRE_Match object; span=(255, 256), match=' '>\n",
      "<_sre.SRE_Match object; span=(256, 257), match='R'>\n",
      "<_sre.SRE_Match object; span=(257, 258), match='o'>\n",
      "<_sre.SRE_Match object; span=(258, 259), match='b'>\n",
      "<_sre.SRE_Match object; span=(259, 260), match='i'>\n",
      "<_sre.SRE_Match object; span=(260, 261), match='n'>\n",
      "<_sre.SRE_Match object; span=(261, 262), match='s'>\n",
      "<_sre.SRE_Match object; span=(262, 263), match='o'>\n",
      "<_sre.SRE_Match object; span=(263, 264), match='n'>\n",
      "<_sre.SRE_Match object; span=(265, 266), match='M'>\n",
      "<_sre.SRE_Match object; span=(266, 267), match='r'>\n",
      "<_sre.SRE_Match object; span=(267, 268), match='.'>\n",
      "<_sre.SRE_Match object; span=(268, 269), match=' '>\n",
      "<_sre.SRE_Match object; span=(269, 270), match='T'>\n"
     ]
    }
   ],
   "source": [
    "pattern2 = re.compile(r'.')\n",
    "matches2 = pattern2.finditer(text_to_search)\n",
    "for match in matches2:\n",
    "    print(match)"
   ]
  }
 ],
 "metadata": {
  "kernelspec": {
   "display_name": "Python 3",
   "language": "python",
   "name": "python3"
  },
  "language_info": {
   "codemirror_mode": {
    "name": "ipython",
    "version": 3
   },
   "file_extension": ".py",
   "mimetype": "text/x-python",
   "name": "python",
   "nbconvert_exporter": "python",
   "pygments_lexer": "ipython3",
   "version": "3.6.1"
  }
 },
 "nbformat": 4,
 "nbformat_minor": 2
}
